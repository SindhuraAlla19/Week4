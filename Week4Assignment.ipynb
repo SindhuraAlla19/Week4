{
 "cells": [
  {
   "attachments": {},
   "cell_type": "markdown",
   "metadata": {},
   "source": [
    "## Cassandra Assignment"
   ]
  },
  {
   "attachments": {},
   "cell_type": "markdown",
   "metadata": {},
   "source": [
    "### Import packages"
   ]
  },
  {
   "cell_type": "code",
   "execution_count": 3,
   "metadata": {},
   "outputs": [],
   "source": [
    "import pandas as pd\n",
    "from cassandra.cluster import Cluster"
   ]
  },
  {
   "attachments": {},
   "cell_type": "markdown",
   "metadata": {},
   "source": [
    "### Load data"
   ]
  },
  {
   "cell_type": "code",
   "execution_count": 4,
   "metadata": {},
   "outputs": [
    {
     "data": {
      "text/html": [
       "<div>\n",
       "<style scoped>\n",
       "    .dataframe tbody tr th:only-of-type {\n",
       "        vertical-align: middle;\n",
       "    }\n",
       "\n",
       "    .dataframe tbody tr th {\n",
       "        vertical-align: top;\n",
       "    }\n",
       "\n",
       "    .dataframe thead th {\n",
       "        text-align: right;\n",
       "    }\n",
       "</style>\n",
       "<table border=\"1\" class=\"dataframe\">\n",
       "  <thead>\n",
       "    <tr style=\"text-align: right;\">\n",
       "      <th></th>\n",
       "      <th>sku</th>\n",
       "      <th>name</th>\n",
       "      <th>description</th>\n",
       "      <th>warehouse_Num</th>\n",
       "    </tr>\n",
       "  </thead>\n",
       "  <tbody>\n",
       "    <tr>\n",
       "      <th>0</th>\n",
       "      <td>101</td>\n",
       "      <td>Apple iPhone 13</td>\n",
       "      <td>6.1-inch Super Retina XDR display</td>\n",
       "      <td>1</td>\n",
       "    </tr>\n",
       "    <tr>\n",
       "      <th>1</th>\n",
       "      <td>102</td>\n",
       "      <td>Samsung Galaxy S21</td>\n",
       "      <td>6.2-inch Dynamic AMOLED 2X display</td>\n",
       "      <td>2</td>\n",
       "    </tr>\n",
       "    <tr>\n",
       "      <th>2</th>\n",
       "      <td>103</td>\n",
       "      <td>Google Pixel 6</td>\n",
       "      <td>6.4-inch AMOLED display</td>\n",
       "      <td>3</td>\n",
       "    </tr>\n",
       "    <tr>\n",
       "      <th>3</th>\n",
       "      <td>104</td>\n",
       "      <td>Fitbit Charge 5</td>\n",
       "      <td>Advanced Health &amp; Fitness Tracker</td>\n",
       "      <td>1</td>\n",
       "    </tr>\n",
       "    <tr>\n",
       "      <th>4</th>\n",
       "      <td>105</td>\n",
       "      <td>Sony PlayStation 5</td>\n",
       "      <td>Console with Ultra HD Blu-ray Disc Drive</td>\n",
       "      <td>2</td>\n",
       "    </tr>\n",
       "  </tbody>\n",
       "</table>\n",
       "</div>"
      ],
      "text/plain": [
       "   sku                name                               description  \\\n",
       "0  101     Apple iPhone 13         6.1-inch Super Retina XDR display   \n",
       "1  102  Samsung Galaxy S21        6.2-inch Dynamic AMOLED 2X display   \n",
       "2  103      Google Pixel 6                   6.4-inch AMOLED display   \n",
       "3  104     Fitbit Charge 5         Advanced Health & Fitness Tracker   \n",
       "4  105  Sony PlayStation 5  Console with Ultra HD Blu-ray Disc Drive   \n",
       "\n",
       "   warehouse_Num  \n",
       "0              1  \n",
       "1              2  \n",
       "2              3  \n",
       "3              1  \n",
       "4              2  "
      ]
     },
     "execution_count": 4,
     "metadata": {},
     "output_type": "execute_result"
    }
   ],
   "source": [
    "df = pd.read_csv('Inventory.csv')\n",
    "df.head()"
   ]
  },
  {
   "attachments": {},
   "cell_type": "markdown",
   "metadata": {},
   "source": [
    "### Creating a session connection to Cassandra cluster"
   ]
  },
  {
   "cell_type": "code",
   "execution_count": 8,
   "metadata": {},
   "outputs": [],
   "source": [
    "clstr = Cluster()\n",
    "session = clstr.connect()"
   ]
  },
  {
   "attachments": {},
   "cell_type": "markdown",
   "metadata": {},
   "source": [
    "### Using session to 'execute commands' on cassandra"
   ]
  },
  {
   "cell_type": "code",
   "execution_count": 9,
   "metadata": {},
   "outputs": [
    {
     "data": {
      "text/plain": [
       "<cassandra.cluster.ResultSet at 0x7fdab7ea4ca0>"
      ]
     },
     "execution_count": 9,
     "metadata": {},
     "output_type": "execute_result"
    }
   ],
   "source": [
    "session.execute(\"CREATE KEYSPACE IF NOT EXISTS m14 WITH REPLICATION = {'class':'SimpleStrategy', 'replication_factor':1}\")"
   ]
  },
  {
   "cell_type": "code",
   "execution_count": 10,
   "metadata": {},
   "outputs": [
    {
     "name": "stdout",
     "output_type": "stream",
     "text": [
      "m14\n",
      "system\n",
      "system_auth\n",
      "system_distributed\n",
      "system_schema\n",
      "system_traces\n",
      "system_views\n",
      "system_virtual_schema\n"
     ]
    }
   ],
   "source": [
    "rows = session.execute(\"desc keyspaces\")\n",
    "for row in rows:\n",
    "    print(f\"{row[0]}\")"
   ]
  },
  {
   "cell_type": "code",
   "execution_count": 14,
   "metadata": {},
   "outputs": [
    {
     "data": {
      "text/plain": [
       "<cassandra.cluster.ResultSet at 0x7fdab7cc45e0>"
      ]
     },
     "execution_count": 14,
     "metadata": {},
     "output_type": "execute_result"
    }
   ],
   "source": [
    "session.execute(\"\"\"\n",
    "    CREATE TABLE m14.inventory (\n",
    "        sku int,\n",
    "        name text,\n",
    "        description text,\n",
    "        warehouse_num int,\n",
    "        PRIMARY KEY(sku)\n",
    "    )\n",
    "\"\"\")"
   ]
  },
  {
   "cell_type": "code",
   "execution_count": 15,
   "metadata": {},
   "outputs": [
    {
     "data": {
      "text/plain": [
       "<cassandra.cluster.ResultSet at 0x7fdab7d4d990>"
      ]
     },
     "execution_count": 15,
     "metadata": {},
     "output_type": "execute_result"
    }
   ],
   "source": [
    "session.execute(\"select * from m14.inventory\")"
   ]
  },
  {
   "cell_type": "code",
   "execution_count": 8,
   "metadata": {},
   "outputs": [
    {
     "data": {
      "text/html": [
       "<div>\n",
       "<style scoped>\n",
       "    .dataframe tbody tr th:only-of-type {\n",
       "        vertical-align: middle;\n",
       "    }\n",
       "\n",
       "    .dataframe tbody tr th {\n",
       "        vertical-align: top;\n",
       "    }\n",
       "\n",
       "    .dataframe thead th {\n",
       "        text-align: right;\n",
       "    }\n",
       "</style>\n",
       "<table border=\"1\" class=\"dataframe\">\n",
       "  <thead>\n",
       "    <tr style=\"text-align: right;\">\n",
       "      <th></th>\n",
       "      <th>sku</th>\n",
       "      <th>name</th>\n",
       "      <th>description</th>\n",
       "      <th>warehouse_Num</th>\n",
       "    </tr>\n",
       "  </thead>\n",
       "  <tbody>\n",
       "    <tr>\n",
       "      <th>0</th>\n",
       "      <td>101</td>\n",
       "      <td>Apple iPhone 13</td>\n",
       "      <td>6.1-inch Super Retina XDR display</td>\n",
       "      <td>1</td>\n",
       "    </tr>\n",
       "    <tr>\n",
       "      <th>1</th>\n",
       "      <td>102</td>\n",
       "      <td>Samsung Galaxy S21</td>\n",
       "      <td>6.2-inch Dynamic AMOLED 2X display</td>\n",
       "      <td>2</td>\n",
       "    </tr>\n",
       "    <tr>\n",
       "      <th>2</th>\n",
       "      <td>103</td>\n",
       "      <td>Google Pixel 6</td>\n",
       "      <td>6.4-inch AMOLED display</td>\n",
       "      <td>3</td>\n",
       "    </tr>\n",
       "    <tr>\n",
       "      <th>3</th>\n",
       "      <td>104</td>\n",
       "      <td>Fitbit Charge 5</td>\n",
       "      <td>Advanced Health &amp; Fitness Tracker</td>\n",
       "      <td>1</td>\n",
       "    </tr>\n",
       "    <tr>\n",
       "      <th>4</th>\n",
       "      <td>105</td>\n",
       "      <td>Sony PlayStation 5</td>\n",
       "      <td>Console with Ultra HD Blu-ray Disc Drive</td>\n",
       "      <td>2</td>\n",
       "    </tr>\n",
       "  </tbody>\n",
       "</table>\n",
       "</div>"
      ],
      "text/plain": [
       "   sku                name                               description  \\\n",
       "0  101     Apple iPhone 13         6.1-inch Super Retina XDR display   \n",
       "1  102  Samsung Galaxy S21        6.2-inch Dynamic AMOLED 2X display   \n",
       "2  103      Google Pixel 6                   6.4-inch AMOLED display   \n",
       "3  104     Fitbit Charge 5         Advanced Health & Fitness Tracker   \n",
       "4  105  Sony PlayStation 5  Console with Ultra HD Blu-ray Disc Drive   \n",
       "\n",
       "   warehouse_Num  \n",
       "0              1  \n",
       "1              2  \n",
       "2              3  \n",
       "3              1  \n",
       "4              2  "
      ]
     },
     "execution_count": 8,
     "metadata": {},
     "output_type": "execute_result"
    }
   ],
   "source": [
    "df.head(5)"
   ]
  },
  {
   "attachments": {},
   "cell_type": "markdown",
   "metadata": {},
   "source": [
    "##### Printing top 10 rows from data"
   ]
  },
  {
   "cell_type": "code",
   "execution_count": 16,
   "metadata": {},
   "outputs": [
    {
     "name": "stdout",
     "output_type": "stream",
     "text": [
      "sku= 101, name = Apple iPhone 13, description = 6.1-inch Super Retina XDR display, warehouse_num = 1\n",
      "sku= 102, name = Samsung Galaxy S21, description = 6.2-inch Dynamic AMOLED 2X display, warehouse_num = 2\n",
      "sku= 103, name = Google Pixel 6, description = 6.4-inch AMOLED display, warehouse_num = 3\n",
      "sku= 104, name = Fitbit Charge 5, description = Advanced Health & Fitness Tracker, warehouse_num = 1\n",
      "sku= 105, name = Sony PlayStation 5, description = Console with Ultra HD Blu-ray Disc Drive, warehouse_num = 2\n",
      "sku= 106, name = Microsoft Xbox Series X, description = 4K Gaming Console, warehouse_num = 3\n",
      "sku= 107, name = Canon EOS R6, description = Full-Frame Mirrorless Camera, warehouse_num = 1\n",
      "sku= 108, name = Sony Alpha A7 III, description = Mirrorless Digital Camera, warehouse_num = 2\n",
      "sku= 109, name = HP Spectre x360, description = 13.3-inch 4K UHD Touch-Screen Laptop, warehouse_num = 3\n",
      "sku= 110, name = Dell XPS 13, description = 13.3-inch FHD Laptop, warehouse_num = 1\n"
     ]
    }
   ],
   "source": [
    "for index, row in df.head(10).iterrows():\n",
    "    print(f\"sku= {row[0]}, name = {row[1]}, description = {row[2]}, warehouse_num = {row[3]}\")"
   ]
  },
  {
   "attachments": {},
   "cell_type": "markdown",
   "metadata": {},
   "source": [
    "##### Insert all the data to m14.inventory table"
   ]
  },
  {
   "cell_type": "code",
   "execution_count": 17,
   "metadata": {},
   "outputs": [],
   "source": [
    "for index, row in df.iterrows():\n",
    "    session.execute(f\"\"\"\n",
    "        INSERT INTO m14.inventory (sku,name,description,warehouse_num)     \n",
    "        VALUES ({row[0]}, '{row[1]}', '{row[2]}', {row[3]});\n",
    "        \"\"\"\n",
    "       )"
   ]
  },
  {
   "cell_type": "code",
   "execution_count": 18,
   "metadata": {},
   "outputs": [
    {
     "name": "stdout",
     "output_type": "stream",
     "text": [
      "sku=114, name=Sennheiser Momentum 3, description=Wireless Noise Cancelling Headphones, warehouse_num=2\n",
      "sku=110, name=Dell XPS 13, description=13.3-inch FHD Laptop, warehouse_num=1\n",
      "sku=128, name=Google Nest Hub (2nd Gen), description=Smart Display, warehouse_num=1\n",
      "sku=117, name=Samsung Galaxy Tab S7, description=11-inch Android Tablet, warehouse_num=2\n",
      "sku=144, name=Seagate Backup Plus Hub, description=8TB External Desktop Hard Drive, warehouse_num=2\n",
      "sku=120, name=Nintendo Switch OLED Model, description=Handheld Game Console, warehouse_num=2\n",
      "sku=140, name=Nikon Z50, description=Mirrorless Camera, warehouse_num=1\n",
      "sku=129, name=Amazon Echo Dot (3rd Gen), description=Smart Speaker, warehouse_num=2\n",
      "sku=132, name=Bose SoundLink Revolve+, description=Portable Bluetooth Speaker, warehouse_num=2\n",
      "sku=105, name=Sony PlayStation 5, description=Console with Ultra HD Blu-ray Disc Drive, warehouse_num=2\n",
      "sku=123, name=Apple Magic Keyboard, description=Wireless Keyboard, warehouse_num=2\n",
      "sku=137, name=GoPro HERO10 Black, description=Action Camera, warehouse_num=1\n",
      "sku=118, name=Apple iPad Pro, description=12.9-inch M1 Chip Tablet, warehouse_num=3\n",
      "sku=125, name=Anker PowerCore Slim 10000 PD, description=Portable Charger, warehouse_num=1\n",
      "sku=134, name=Jabra Elite 85t, description=True Wireless Earbuds, warehouse_num=1\n",
      "sku=139, name=Canon EOS Rebel T8i, description=DSLR Camera, warehouse_num=3\n",
      "sku=111, name=Apple MacBook Pro, description=13-inch M1 Chip Laptop, warehouse_num=2\n",
      "sku=113, name=Bose QuietComfort 35 II, description=Wireless Noise Cancelling Headphones, warehouse_num=1\n",
      "sku=130, name=Sonos One (Gen 2), description=Smart Speaker, warehouse_num=3\n",
      "sku=122, name=Logitech MX Master 3, description=Wireless Mouse, warehouse_num=1\n",
      "sku=143, name=Samsung T5 Portable SSD, description=500GB, warehouse_num=1\n",
      "sku=116, name=LG C1 OLED TV, description=4K Ultra HD Smart OLED TV, warehouse_num=1\n",
      "sku=121, name=Microsoft Surface Laptop 4, description=13.5-inch Touchscreen Laptop, warehouse_num=3\n",
      "sku=112, name=Lenovo ThinkPad X1 Carbon, description=14-inch Ultrabook, warehouse_num=3\n",
      "sku=135, name=Apple AirPods Pro, description=Active Noise Cancelling Earbuds, warehouse_num=2\n",
      "sku=115, name=Samsung QN90A Neo QLED TV, description=4K Ultra HD Smart TV, warehouse_num=3\n",
      "sku=107, name=Canon EOS R6, description=Full-Frame Mirrorless Camera, warehouse_num=1\n",
      "sku=141, name=Fujifilm Instax Mini 11, description=Instant Camera, warehouse_num=2\n",
      "sku=119, name=Kindle Paperwhite, description=Waterproof E-reader, warehouse_num=1\n",
      "sku=131, name=JBL Flip 5, description=Waterproof Bluetooth Speaker, warehouse_num=1\n",
      "sku=126, name=Philips Hue White and Color Ambiance Starter Kit, description=Smart Light Bulbs, warehouse_num=2\n",
      "sku=108, name=Sony Alpha A7 III, description=Mirrorless Digital Camera, warehouse_num=2\n",
      "sku=127, name=Ring Video Doorbell 4, description=Smart Doorbell, warehouse_num=3\n",
      "sku=142, name=Western Digital My Passport 4TB, description=Portable External Hard Drive, warehouse_num=3\n",
      "sku=109, name=HP Spectre x360, description=13.3-inch 4K UHD Touch-Screen Laptop, warehouse_num=3\n",
      "sku=104, name=Fitbit Charge 5, description=Advanced Health & Fitness Tracker, warehouse_num=1\n",
      "sku=102, name=Samsung Galaxy S21, description=6.2-inch Dynamic AMOLED 2X display, warehouse_num=2\n",
      "sku=106, name=Microsoft Xbox Series X, description=4K Gaming Console, warehouse_num=3\n",
      "sku=101, name=Apple iPhone 13, description=6.1-inch Super Retina XDR display, warehouse_num=1\n",
      "sku=124, name=Belkin Boost Charge Pro 3-in-1 Wireless Charger, description=Wireless Charging Station, warehouse_num=3\n",
      "sku=138, name=DJI Mavic Air 2, description=Drone with 4K Camera, warehouse_num=2\n",
      "sku=133, name=Beats Studio Buds, description=True Wireless Earbuds, warehouse_num=3\n",
      "sku=136, name=Sony WH-1000XM4, description=Wireless Noise Cancelling Headphones, warehouse_num=3\n",
      "sku=103, name=Google Pixel 6, description=6.4-inch AMOLED display, warehouse_num=3\n"
     ]
    }
   ],
   "source": [
    "rows = session.execute(\"select (sku,name,description,warehouse_num) from m14.inventory\")\n",
    "for row in rows:\n",
    "    print(f\"sku={row[0][0]}, name={row[0][1]}, description={row[0][2]}, warehouse_num={row[0][3]}\")\n"
   ]
  },
  {
   "cell_type": "code",
   "execution_count": 19,
   "metadata": {},
   "outputs": [
    {
     "data": {
      "text/plain": [
       "<cassandra.cluster.ResultSet at 0x7fdab7ea4b80>"
      ]
     },
     "execution_count": 19,
     "metadata": {},
     "output_type": "execute_result"
    }
   ],
   "source": [
    "session.execute('create index on m14.inventory(warehouse_num)')"
   ]
  },
  {
   "cell_type": "code",
   "execution_count": 20,
   "metadata": {},
   "outputs": [
    {
     "name": "stdout",
     "output_type": "stream",
     "text": [
      "sku=114, name=Sennheiser Momentum 3, description=Wireless Noise Cancelling Headphones, warehouse_num=2\n",
      "sku=117, name=Samsung Galaxy Tab S7, description=11-inch Android Tablet, warehouse_num=2\n",
      "sku=144, name=Seagate Backup Plus Hub, description=8TB External Desktop Hard Drive, warehouse_num=2\n",
      "sku=120, name=Nintendo Switch OLED Model, description=Handheld Game Console, warehouse_num=2\n",
      "sku=129, name=Amazon Echo Dot (3rd Gen), description=Smart Speaker, warehouse_num=2\n",
      "sku=132, name=Bose SoundLink Revolve+, description=Portable Bluetooth Speaker, warehouse_num=2\n",
      "sku=105, name=Sony PlayStation 5, description=Console with Ultra HD Blu-ray Disc Drive, warehouse_num=2\n",
      "sku=123, name=Apple Magic Keyboard, description=Wireless Keyboard, warehouse_num=2\n",
      "sku=111, name=Apple MacBook Pro, description=13-inch M1 Chip Laptop, warehouse_num=2\n",
      "sku=135, name=Apple AirPods Pro, description=Active Noise Cancelling Earbuds, warehouse_num=2\n",
      "sku=141, name=Fujifilm Instax Mini 11, description=Instant Camera, warehouse_num=2\n",
      "sku=126, name=Philips Hue White and Color Ambiance Starter Kit, description=Smart Light Bulbs, warehouse_num=2\n",
      "sku=108, name=Sony Alpha A7 III, description=Mirrorless Digital Camera, warehouse_num=2\n",
      "sku=102, name=Samsung Galaxy S21, description=6.2-inch Dynamic AMOLED 2X display, warehouse_num=2\n",
      "sku=138, name=DJI Mavic Air 2, description=Drone with 4K Camera, warehouse_num=2\n"
     ]
    }
   ],
   "source": [
    "rows = session.execute(\"select (sku,name,description,warehouse_num) from m14.inventory where warehouse_num =2\")\n",
    "for row in rows:\n",
    "    print(f\"sku={row[0][0]}, name={row[0][1]}, description={row[0][2]}, warehouse_num={row[0][3]}\")"
   ]
  }
 ],
 "metadata": {
  "kernelspec": {
   "display_name": "base",
   "language": "python",
   "name": "python3"
  },
  "language_info": {
   "codemirror_mode": {
    "name": "ipython",
    "version": 3
   },
   "file_extension": ".py",
   "mimetype": "text/x-python",
   "name": "python",
   "nbconvert_exporter": "python",
   "pygments_lexer": "ipython3",
   "version": "3.10.8"
  },
  "orig_nbformat": 4,
  "vscode": {
   "interpreter": {
    "hash": "c774f5f42cb3e70515ef7cb909d9051370cc09a28b296d74902002ebc2249cb4"
   }
  }
 },
 "nbformat": 4,
 "nbformat_minor": 2
}
